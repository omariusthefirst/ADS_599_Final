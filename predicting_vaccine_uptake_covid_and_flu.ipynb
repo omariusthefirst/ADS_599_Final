{
 "cells": [
  {
   "cell_type": "code",
   "execution_count": 20,
   "metadata": {},
   "outputs": [],
   "source": [
    "import pandas as pd\n",
    "import numpy as np\n",
    "import matplotlib as mpl\n",
    "import seaborn as sns\n",
    "import os\n",
    "# import csv\n",
    "# import re\n",
    "computer = 'o_desktop'\n",
    "#computer = 'other'\n",
    "if (computer == 'o_desktop'):\n",
    "    os.environ['NUMEXPR_MAX_THREADS'] = '24'\n",
    "\n",
    "\n",
    "\n",
    "# For future use.\n",
    "# import threading\n",
    "# import multiprocessing"
   ]
  },
  {
   "cell_type": "code",
   "execution_count": 46,
   "metadata": {},
   "outputs": [
    {
     "data": {
      "text/plain": [
       "0    1.0\n",
       "1    0.0\n",
       "2    NaN\n",
       "3    1.0\n",
       "4    1.0\n",
       "Name: health_insurance, dtype: float64"
      ]
     },
     "execution_count": 46,
     "metadata": {},
     "output_type": "execute_result"
    }
   ],
   "source": [
    "data_location = \"C:/MSADS_Final/test_set_features.csv\"\n",
    "df = pd.read_csv(data_location)\n",
    "df.head(5)\n"
   ]
  },
  {
   "cell_type": "code",
   "execution_count": 49,
   "metadata": {},
   "outputs": [],
   "source": [
    "#Show unique values per column in preparation of data cleaning and transformation.\n",
    "#Only needs to be done once. Files in repo.\n",
    "if 1:\n",
    "    for col in df:\n",
    "        #Unique values in each column\n",
    "        with open('unique_values_in_column.txt', 'a') as f:\n",
    "            f.write(str(df[col].unique()))\n",
    "            f.write('\\n')\n",
    "        # print(df[col].unique())\n",
    "\n",
    "        #Occurance of each unique row value\n",
    "        #must set dropna=False\n",
    "        with open('unique_counts_in_column.txt', 'a') as f:\n",
    "            f.write( str(df[col].value_counts(dropna=False) ))\n",
    "            f.write('\\n')\n",
    "        #print(df[col].value_counts())"
   ]
  },
  {
   "cell_type": "code",
   "execution_count": null,
   "metadata": {},
   "outputs": [],
   "source": []
  },
  {
   "cell_type": "code",
   "execution_count": null,
   "metadata": {},
   "outputs": [],
   "source": []
  }
 ],
 "metadata": {
  "kernelspec": {
   "display_name": "Python 3.7.8 64-bit",
   "language": "python",
   "name": "python3"
  },
  "language_info": {
   "codemirror_mode": {
    "name": "ipython",
    "version": 3
   },
   "file_extension": ".py",
   "mimetype": "text/x-python",
   "name": "python",
   "nbconvert_exporter": "python",
   "pygments_lexer": "ipython3",
   "version": "3.7.8"
  },
  "orig_nbformat": 4,
  "vscode": {
   "interpreter": {
    "hash": "0a54084e6b208ee8d1ce3989ffc20924477a5f55f5a43e22e699a6741623861e"
   }
  }
 },
 "nbformat": 4,
 "nbformat_minor": 2
}
